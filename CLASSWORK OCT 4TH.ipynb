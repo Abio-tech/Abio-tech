{
 "cells": [
  {
   "cell_type": "code",
   "execution_count": null,
   "id": "13ca5d83",
   "metadata": {},
   "outputs": [],
   "source": [
    "(tuple){dictionary}[list]"
   ]
  },
  {
   "cell_type": "markdown",
   "id": "96c54f12",
   "metadata": {},
   "source": [
    "#  4TH OCTOBER CLASSWORK"
   ]
  },
  {
   "cell_type": "code",
   "execution_count": 13,
   "id": "2eef7ef1",
   "metadata": {},
   "outputs": [
    {
     "name": "stdout",
     "output_type": "stream",
     "text": [
      "2\n"
     ]
    }
   ],
   "source": [
    "# write a python program to get the largest number from a list\n",
    "def max_num_in_list(list):\n",
    "    max = list[0]\n",
    "    for a in list:\n",
    "        if a > max:\n",
    "            max = a\n",
    "    return max \n",
    "print(max_num_in_list([1, 2,-4,0]))"
   ]
  },
  {
   "cell_type": "code",
   "execution_count": 14,
   "id": "a591e6bb",
   "metadata": {},
   "outputs": [
    {
     "name": "stdout",
     "output_type": "stream",
     "text": [
      "-4\n"
     ]
    }
   ],
   "source": [
    "# write a python program to get the smallest number from a list\n",
    "def min_num_in_list(list):\n",
    "    min = list[0]\n",
    "    for b in list:\n",
    "        if b < min:\n",
    "            min = b\n",
    "    return min \n",
    "print(min_num_in_list([1, 2,-4,0]))"
   ]
  },
  {
   "cell_type": "code",
   "execution_count": 16,
   "id": "14835be4",
   "metadata": {},
   "outputs": [
    {
     "name": "stdout",
     "output_type": "stream",
     "text": [
      "{0: 10, 1: 20}\n",
      "{0: 10, 1: 20, 2: 30}\n"
     ]
    }
   ],
   "source": [
    "# write a python script to add a key to a dictionary\n",
    "d={0:10, 1:20}\n",
    "print(d)\n",
    "d.update({2:30})\n",
    "print(d)"
   ]
  },
  {
   "cell_type": "code",
   "execution_count": 19,
   "id": "d5bef1a5",
   "metadata": {},
   "outputs": [
    {
     "name": "stdout",
     "output_type": "stream",
     "text": [
      "{0: 10, 1: 20}\n",
      "{0: 10, 1: 20, 2: 30}\n",
      "{0: 10, 1: 20, 2: 30, 3: 40}\n"
     ]
    }
   ],
   "source": [
    "d={0:10, 1:20}\n",
    "print(d)\n",
    "d.update({2:30})\n",
    "print(d)\n",
    "d.update({3:40})\n",
    "print(d)"
   ]
  },
  {
   "cell_type": "code",
   "execution_count": 24,
   "id": "2ef367b4",
   "metadata": {},
   "outputs": [
    {
     "name": "stdout",
     "output_type": "stream",
     "text": [
      "{'candace': 8, 'bithiah': 4, 'dad': 40, 'Mum': 30}\n"
     ]
    }
   ],
   "source": [
    "# write a python script to merge two python dictionaries\n",
    "d1={\"candace\": 8, \"bithiah\": 4}\n",
    "d2={\"dad\": 40, \"Mum\": 30}\n",
    "d=d1.copy()\n",
    "d.update(d2)\n",
    "print (d)"
   ]
  },
  {
   "cell_type": "code",
   "execution_count": 28,
   "id": "1a365be2",
   "metadata": {},
   "outputs": [
    {
     "name": "stdout",
     "output_type": "stream",
     "text": [
      "{'candace': 8, 'bithiah': 4, 'dad': 40, 'Mum': 30}\n"
     ]
    }
   ],
   "source": [
    "d1={\"candace\": 8, \"bithiah\": 4}\n",
    "d2={\"dad\": 40, \"Mum\": 30}\n",
    "d1.update(d2)\n",
    "print(d1)"
   ]
  },
  {
   "cell_type": "code",
   "execution_count": 40,
   "id": "92fa9df5",
   "metadata": {},
   "outputs": [
    {
     "name": "stdout",
     "output_type": "stream",
     "text": [
      "{'a': 8, 'b': 4, 'c': 40, 'd': 30, 'e': 18}\n",
      "{'b': 4, 'c': 40, 'd': 30, 'e': 18}\n"
     ]
    }
   ],
   "source": [
    "# write a python script to remove a key from a dictionaries\n",
    "mydict = {\"a\": 8, \"b\": 4, \"c\": 40, \"d\": 30, \"e\": 18}\n",
    "print(mydict)\n",
    "if \"a\" in mydict:\n",
    "    del mydict[\"a\"] \n",
    "print(mydict)"
   ]
  },
  {
   "cell_type": "code",
   "execution_count": 38,
   "id": "f2cc0d78",
   "metadata": {},
   "outputs": [
    {
     "name": "stdout",
     "output_type": "stream",
     "text": [
      "[5, 10, 20, 30, 40, 50]\n",
      "(5, 10, 20, 30, 40, 50)\n"
     ]
    }
   ],
   "source": [
    "# write a python program to convert a list to a tuple\n",
    "listx=[5,10,20,30,40,50]\n",
    "print(listx)\n",
    "tuplex=tuple(listx)\n",
    "print(tuplex)\n",
    "\n"
   ]
  },
  {
   "cell_type": "code",
   "execution_count": 41,
   "id": "7db3e20c",
   "metadata": {},
   "outputs": [
    {
     "name": "stdout",
     "output_type": "stream",
     "text": [
      "{'w': 8, 'x': 4, 'y': 40, 'z': 30, 'e': 18}\n",
      "{'w': 8, 'x': 4, 'y': 40, 'z': 30}\n"
     ]
    }
   ],
   "source": [
    "# write a python script to remove a key from a dictionaries\n",
    "mydict = {\"w\": 8, \"x\": 4, \"y\": 40, \"z\": 30, \"e\": 18}\n",
    "print(mydict)\n",
    "if \"e\" in mydict:\n",
    "    del mydict[\"e\"] \n",
    "print(mydict)"
   ]
  },
  {
   "cell_type": "code",
   "execution_count": 42,
   "id": "08ab02cd",
   "metadata": {},
   "outputs": [
    {
     "name": "stdout",
     "output_type": "stream",
     "text": [
      "{'CAN': 8, 'DACE': 4, 'BIT': 40, 'HIAH': 30, 'OVD': 18}\n",
      "{'CAN': 8, 'DACE': 4, 'BIT': 40, 'HIAH': 30}\n"
     ]
    }
   ],
   "source": [
    "# write a python script to remove a key from a dictionaries\n",
    "mydict = {\"CAN\": 8, \"DACE\": 4, \"BIT\": 40, \"HIAH\": 30, \"OVD\": 18}\n",
    "print(mydict)\n",
    "if \"OVD\" in mydict:\n",
    "    del mydict[\"OVD\"] \n",
    "print(mydict)"
   ]
  },
  {
   "cell_type": "code",
   "execution_count": 43,
   "id": "074f5805",
   "metadata": {},
   "outputs": [
    {
     "name": "stdout",
     "output_type": "stream",
     "text": [
      "{'CANDACE': 8, 'BITHIAH': 4, 'DAD': 40, 'MUM': 30, 'YOU': 18}\n",
      "{'CANDACE': 8, 'BITHIAH': 4, 'DAD': 40, 'MUM': 30}\n"
     ]
    }
   ],
   "source": [
    "# write a python script to remove a key from a dictionaries\n",
    "mydict = {\"CANDACE\": 8, \"BITHIAH\": 4, \"DAD\": 40, \"MUM\": 30, \"YOU\": 18}\n",
    "print(mydict)\n",
    "if \"YOU\" in mydict:\n",
    "    del mydict[\"YOU\"] \n",
    "print(mydict)"
   ]
  },
  {
   "cell_type": "code",
   "execution_count": null,
   "id": "998e42d0",
   "metadata": {},
   "outputs": [],
   "source": []
  }
 ],
 "metadata": {
  "kernelspec": {
   "display_name": "Python 3 (ipykernel)",
   "language": "python",
   "name": "python3"
  },
  "language_info": {
   "codemirror_mode": {
    "name": "ipython",
    "version": 3
   },
   "file_extension": ".py",
   "mimetype": "text/x-python",
   "name": "python",
   "nbconvert_exporter": "python",
   "pygments_lexer": "ipython3",
   "version": "3.9.12"
  }
 },
 "nbformat": 4,
 "nbformat_minor": 5
}
